{
 "cells": [
  {
   "cell_type": "markdown",
   "id": "2a50bb75-0025-4084-9aa7-d2c71e5fd4e5",
   "metadata": {},
   "source": [
    "## Jeu de Sudoku"
   ]
  },
  {
   "cell_type": "markdown",
   "id": "25e72af5-60b1-40f7-8265-58a8aae8246f",
   "metadata": {},
   "source": [
    "Diego et Celia"
   ]
  },
  {
   "cell_type": "code",
   "execution_count": 10,
   "id": "4796f2de-2ec1-4644-83d3-552d58cab63b",
   "metadata": {},
   "outputs": [],
   "source": [
    "import random\n",
    "import numpy as np"
   ]
  },
  {
   "cell_type": "code",
   "execution_count": 9,
   "id": "c9de4f3d-ed8d-4181-b80d-4f312e4ede1f",
   "metadata": {},
   "outputs": [],
   "source": [
    "def MakeSudoku():\n",
    "    Grid = [[0 for x in range(9)] for y in range(9)]\n",
    "    \n",
    "#Liste externe (for y in range(9)) - cette liste va tourner 9 fois, en creant chaque fois une nouvelle liste interne (= 9 rangées)\n",
    "#Liste interne ([0 for x in range(9)]) - cette liste va determiner le contenu des liste et combien d'elements apparaissent (= 0 apparrait 9 fois pour chaque liste)\n",
    "    \n",
    "    for i in range(9):\n",
    "        for j in range(9):\n",
    "            Grid[i][j] = 0\n",
    "    return Grid\n",
    "\n",
    "# Loop externe (for i in range(9)): viens iterer sur les rangées\n",
    "# Loop interne (for j in range(9)): viens iterer sur les elements de chaque rangée\n",
    "# Assignation Grid[i][j] = 0 : fonctionne comme des des coordonnés [x][y] et y assigne 0\n",
    "    \n",
    "m = MakeSudoku()"
   ]
  },
  {
   "cell_type": "code",
   "execution_count": 13,
   "id": "a449d014-bf10-4e60-882e-d1628e86978a",
   "metadata": {},
   "outputs": [],
   "source": [
    "m = np.array(m)"
   ]
  },
  {
   "cell_type": "code",
   "execution_count": 15,
   "id": "d765913b-ff54-464f-b330-d7701f988bfd",
   "metadata": {},
   "outputs": [
    {
     "data": {
      "text/plain": [
       "{1, 2, 3, 4, 5, 6, 7, 8, 9}"
      ]
     },
     "execution_count": 15,
     "metadata": {},
     "output_type": "execute_result"
    }
   ],
   "source": [
    "digits = set(range(1, 10))\n",
    "digits"
   ]
  },
  {
   "cell_type": "code",
   "execution_count": 17,
   "id": "660c9520-c18d-4756-9291-9a10fe0f42c0",
   "metadata": {},
   "outputs": [
    {
     "data": {
      "text/plain": [
       "set()"
      ]
     },
     "execution_count": 17,
     "metadata": {},
     "output_type": "execute_result"
    }
   ],
   "source": [
    "digits.intersection([0, 0, 0])"
   ]
  },
  {
   "cell_type": "code",
   "execution_count": 27,
   "id": "39950d3e-f4c1-45f4-8f94-a290352bf90b",
   "metadata": {},
   "outputs": [],
   "source": [
    "def alldigitsonce(l):\n",
    "    'len(l) must 9.'\n",
    "    \n",
    "    return digits.intersection(l) == digits"
   ]
  },
  {
   "cell_type": "code",
   "execution_count": 29,
   "id": "107a24ad-79b5-4f54-bd6a-77ccbeebfbcb",
   "metadata": {},
   "outputs": [
    {
     "data": {
      "text/plain": [
       "array([0, 0, 0, 0, 0, 0, 0, 0, 0])"
      ]
     },
     "execution_count": 29,
     "metadata": {},
     "output_type": "execute_result"
    }
   ],
   "source": [
    "m[1, :]"
   ]
  },
  {
   "cell_type": "code",
   "execution_count": 30,
   "id": "bbdfb3fd-d1b0-487d-ac91-4e94b920508c",
   "metadata": {},
   "outputs": [
    {
     "data": {
      "text/plain": [
       "array([0, 0, 0, 0, 0, 0, 0, 0, 0])"
      ]
     },
     "execution_count": 30,
     "metadata": {},
     "output_type": "execute_result"
    }
   ],
   "source": [
    "m[:, 3]"
   ]
  },
  {
   "cell_type": "code",
   "execution_count": 28,
   "id": "f0422a0a-6da8-438c-872c-b27c72629b87",
   "metadata": {},
   "outputs": [
    {
     "data": {
      "text/plain": [
       "False"
      ]
     },
     "execution_count": 28,
     "metadata": {},
     "output_type": "execute_result"
    }
   ],
   "source": [
    "alldigitsonce(m[1, :])"
   ]
  },
  {
   "cell_type": "code",
   "execution_count": 31,
   "id": "10441b8d-89b1-4fc0-80dc-204e2013b5a4",
   "metadata": {},
   "outputs": [
    {
     "data": {
      "text/plain": [
       "(9, 9)"
      ]
     },
     "execution_count": 31,
     "metadata": {},
     "output_type": "execute_result"
    }
   ],
   "source": [
    "m.shape"
   ]
  },
  {
   "cell_type": "code",
   "execution_count": null,
   "id": "2c89ab08-662d-4a9f-8649-323af4c3f794",
   "metadata": {},
   "outputs": [],
   "source": [
    "def testrowsandcols(sudoku):\n",
    "    n, p = sudoku.shape\n",
    "    \n",
    "    for i in range(n):\n",
    "        if not alldigitsonce(sudoku[i, :]):\n",
    "            return False\n",
    "    \n",
    "    for j in range(p):\n",
    "        if not alldigitsonce(sudoku[:, j]):\n",
    "            return False\n",
    "    \n",
    "    return True"
   ]
  },
  {
   "cell_type": "code",
   "execution_count": 38,
   "id": "ef2a147a-c338-42ea-a89b-1e7f7f170ab4",
   "metadata": {},
   "outputs": [],
   "source": [
    "v = np.arange(105, 115)"
   ]
  },
  {
   "cell_type": "code",
   "execution_count": 39,
   "id": "dd8414e5-8e1d-44e1-ae69-d6a5a20aa7f5",
   "metadata": {},
   "outputs": [
    {
     "data": {
      "text/plain": [
       "array([105, 106, 107, 108, 109, 110, 111, 112, 113, 114])"
      ]
     },
     "execution_count": 39,
     "metadata": {},
     "output_type": "execute_result"
    }
   ],
   "source": [
    "v"
   ]
  },
  {
   "cell_type": "code",
   "execution_count": 40,
   "id": "3d5a7c2c-e460-41ec-aaf5-dc42c1bcfa09",
   "metadata": {},
   "outputs": [
    {
     "data": {
      "text/plain": [
       "array([108, 109, 110])"
      ]
     },
     "execution_count": 40,
     "metadata": {},
     "output_type": "execute_result"
    }
   ],
   "source": [
    "v[3:6]"
   ]
  },
  {
   "cell_type": "code",
   "execution_count": 42,
   "id": "ee9eb537-e0d0-414b-9376-7e616ec27128",
   "metadata": {},
   "outputs": [
    {
     "data": {
      "text/plain": [
       "array([[0, 0, 0],\n",
       "       [0, 0, 0],\n",
       "       [0, 0, 0]])"
      ]
     },
     "execution_count": 42,
     "metadata": {},
     "output_type": "execute_result"
    }
   ],
   "source": [
    "m[0:3, 0:3]"
   ]
  },
  {
   "cell_type": "code",
   "execution_count": 43,
   "id": "31ce7404-03ec-43a5-8c57-ba11de9ec3dd",
   "metadata": {},
   "outputs": [
    {
     "data": {
      "text/plain": [
       "array([[0, 0, 0],\n",
       "       [0, 0, 0],\n",
       "       [0, 0, 0]])"
      ]
     },
     "execution_count": 43,
     "metadata": {},
     "output_type": "execute_result"
    }
   ],
   "source": [
    "m[3:6, 0:3]"
   ]
  },
  {
   "cell_type": "code",
   "execution_count": 44,
   "id": "abba3160-d670-4137-a1aa-5fc4eff3ad17",
   "metadata": {},
   "outputs": [
    {
     "data": {
      "text/plain": [
       "array([[0, 0, 0],\n",
       "       [0, 0, 0],\n",
       "       [0, 0, 0]])"
      ]
     },
     "execution_count": 44,
     "metadata": {},
     "output_type": "execute_result"
    }
   ],
   "source": [
    "m[6:9, 0:3]"
   ]
  },
  {
   "cell_type": "code",
   "execution_count": 45,
   "id": "ae2e9fcc-a0aa-40d9-ad1b-aaa81fc9cba5",
   "metadata": {},
   "outputs": [],
   "source": [
    "for i in [0, 3, 6]:\n",
    "    for j in [0, 3, 6]:\n",
    "        m[i:(i + 3), j:(j + 3)]"
   ]
  },
  {
   "cell_type": "code",
   "execution_count": 50,
   "id": "0436592c-f2ba-4cc1-89c9-ca5dbffe2390",
   "metadata": {},
   "outputs": [
    {
     "data": {
      "text/plain": [
       "array([[1, 2, 3],\n",
       "       [4, 5, 6],\n",
       "       [7, 8, 9]])"
      ]
     },
     "execution_count": 50,
     "metadata": {},
     "output_type": "execute_result"
    }
   ],
   "source": [
    "minisq = np.array([[1, 2, 3], [4, 5, 6], [7, 8, 9]])\n",
    "minisq"
   ]
  },
  {
   "cell_type": "code",
   "execution_count": 53,
   "id": "c4271764-52ed-49fa-a618-dae7cdc34214",
   "metadata": {},
   "outputs": [
    {
     "data": {
      "text/plain": [
       "array([1, 2, 3, 4, 5, 6, 7, 8, 9])"
      ]
     },
     "execution_count": 53,
     "metadata": {},
     "output_type": "execute_result"
    }
   ],
   "source": [
    "minisq.flatten()"
   ]
  },
  {
   "cell_type": "code",
   "execution_count": 54,
   "id": "b6a13207-6cc0-456d-84a7-ac767a096df5",
   "metadata": {},
   "outputs": [
    {
     "data": {
      "text/plain": [
       "True"
      ]
     },
     "execution_count": 54,
     "metadata": {},
     "output_type": "execute_result"
    }
   ],
   "source": [
    "alldigitsonce(minisq.flatten())"
   ]
  },
  {
   "cell_type": "code",
   "execution_count": null,
   "id": "2d9e3fc0-7942-470b-a236-09b668e8afcf",
   "metadata": {},
   "outputs": [],
   "source": []
  },
  {
   "cell_type": "code",
   "execution_count": null,
   "id": "e1471674-c130-47f1-9dfa-5ff7de600a84",
   "metadata": {},
   "outputs": [],
   "source": []
  }
 ],
 "metadata": {
  "kernelspec": {
   "display_name": "Python 3 (ipykernel)",
   "language": "python",
   "name": "python3"
  },
  "language_info": {
   "codemirror_mode": {
    "name": "ipython",
    "version": 3
   },
   "file_extension": ".py",
   "mimetype": "text/x-python",
   "name": "python",
   "nbconvert_exporter": "python",
   "pygments_lexer": "ipython3",
   "version": "3.7.12"
  }
 },
 "nbformat": 4,
 "nbformat_minor": 5
}
