{
 "cells": [
  {
   "cell_type": "markdown",
   "id": "2a50bb75-0025-4084-9aa7-d2c71e5fd4e5",
   "metadata": {},
   "source": [
    "## Jeu de Sudoku"
   ]
  },
  {
   "cell_type": "markdown",
   "id": "25e72af5-60b1-40f7-8265-58a8aae8246f",
   "metadata": {},
   "source": [
    "Diego et Celia"
   ]
  },
  {
   "cell_type": "code",
   "execution_count": 10,
   "id": "4796f2de-2ec1-4644-83d3-552d58cab63b",
   "metadata": {},
   "outputs": [],
   "source": [
    "import random\n",
    "import numpy as np"
   ]
  },
  {
   "cell_type": "code",
   "execution_count": 129,
   "id": "c9de4f3d-ed8d-4181-b80d-4f312e4ede1f",
   "metadata": {},
   "outputs": [
    {
     "data": {
      "text/plain": [
       "[[6, 4, 7, 9, 9, 1, 9, 7, 6],\n",
       " [7, 3, 9, 4, 8, 8, 9, 5, 1],\n",
       " [1, 3, 6, 1, 7, 5, 9, 6, 3],\n",
       " [8, 6, 1, 6, 8, 2, 2, 7, 2],\n",
       " [7, 4, 2, 9, 3, 9, 9, 4, 8],\n",
       " [3, 6, 6, 2, 3, 1, 6, 3, 4],\n",
       " [8, 3, 4, 5, 9, 1, 9, 4, 7],\n",
       " [2, 8, 9, 6, 9, 6, 3, 6, 4],\n",
       " [7, 6, 9, 9, 4, 3, 1, 4, 4]]"
      ]
     },
     "execution_count": 129,
     "metadata": {},
     "output_type": "execute_result"
    }
   ],
   "source": [
    "def MakeSudoku():\n",
    "    Grid = [[0 for x in range(9)] for y in range(9)]\n",
    "    \n",
    "#Liste externe (for y in range(9)) - cette liste va tourner 9 fois, en creant chaque fois une nouvelle liste interne (= 9 rangées)\n",
    "#Liste interne ([0 for x in range(9)]) - cette liste va determiner le contenu des liste et combien d'elements apparaissent (= 0 apparrait 9 fois pour chaque liste)\n",
    "    \n",
    "    for i in range(9):\n",
    "        for j in range(9):\n",
    "            Grid[i][j] = random.randint(1, 9)\n",
    "    return Grid\n",
    "\n",
    "# Loop externe (for i in range(9)): viens iterer sur les rangées\n",
    "# Loop interne (for j in range(9)): viens iterer sur les elements de chaque rangée\n",
    "# Assignation Grid[i][j] = 0 : fonctionne comme des des coordonnés [x][y] et y assigne 0\n",
    "    \n",
    "S = MakeSudoku()\n",
    "S"
   ]
  },
  {
   "cell_type": "code",
   "execution_count": 104,
   "id": "a449d014-bf10-4e60-882e-d1628e86978a",
   "metadata": {},
   "outputs": [
    {
     "data": {
      "text/plain": [
       "array([[1, 6, 5, 2, 4, 7, 9, 2, 3],\n",
       "       [3, 7, 1, 8, 4, 5, 8, 1, 8],\n",
       "       [4, 9, 6, 1, 1, 9, 3, 8, 5],\n",
       "       [1, 4, 7, 1, 1, 2, 6, 5, 8],\n",
       "       [8, 2, 6, 7, 8, 6, 9, 2, 5],\n",
       "       [9, 8, 1, 9, 3, 5, 4, 6, 7],\n",
       "       [1, 5, 4, 9, 9, 8, 9, 5, 4],\n",
       "       [4, 4, 6, 2, 3, 6, 8, 2, 5],\n",
       "       [2, 9, 9, 1, 3, 9, 5, 6, 9]])"
      ]
     },
     "execution_count": 104,
     "metadata": {},
     "output_type": "execute_result"
    }
   ],
   "source": [
    "m = np.array(S)\n",
    "m"
   ]
  },
  {
   "cell_type": "code",
   "execution_count": 105,
   "id": "d765913b-ff54-464f-b330-d7701f988bfd",
   "metadata": {},
   "outputs": [
    {
     "data": {
      "text/plain": [
       "{1, 2, 3, 4, 5, 6, 7, 8, 9}"
      ]
     },
     "execution_count": 105,
     "metadata": {},
     "output_type": "execute_result"
    }
   ],
   "source": [
    "digits = set(range(1, 10))\n",
    "digits"
   ]
  },
  {
   "cell_type": "code",
   "execution_count": 106,
   "id": "660c9520-c18d-4756-9291-9a10fe0f42c0",
   "metadata": {},
   "outputs": [
    {
     "data": {
      "text/plain": [
       "set()"
      ]
     },
     "execution_count": 106,
     "metadata": {},
     "output_type": "execute_result"
    }
   ],
   "source": [
    "digits.intersection([0, 0, 0])\n",
    "#va retourner les chiffres qui se truvent dans le array m - donc de 1 a 9"
   ]
  },
  {
   "cell_type": "code",
   "execution_count": 107,
   "id": "39950d3e-f4c1-45f4-8f94-a290352bf90b",
   "metadata": {},
   "outputs": [],
   "source": [
    "\n",
    "def alldigitsonce(l):\n",
    "    'len(l) must 9.'\n",
    "    \n",
    "    return digits.intersection(l) == digits"
   ]
  },
  {
   "cell_type": "code",
   "execution_count": 108,
   "id": "107a24ad-79b5-4f54-bd6a-77ccbeebfbcb",
   "metadata": {},
   "outputs": [
    {
     "data": {
      "text/plain": [
       "array([3, 7, 1, 8, 4, 5, 8, 1, 8])"
      ]
     },
     "execution_count": 108,
     "metadata": {},
     "output_type": "execute_result"
    }
   ],
   "source": [
    "m[1, :]"
   ]
  },
  {
   "cell_type": "code",
   "execution_count": 109,
   "id": "bbdfb3fd-d1b0-487d-ac91-4e94b920508c",
   "metadata": {},
   "outputs": [
    {
     "data": {
      "text/plain": [
       "array([2, 8, 1, 1, 7, 9, 9, 2, 1])"
      ]
     },
     "execution_count": 109,
     "metadata": {},
     "output_type": "execute_result"
    }
   ],
   "source": [
    "m[:, 3]"
   ]
  },
  {
   "cell_type": "code",
   "execution_count": 110,
   "id": "f0422a0a-6da8-438c-872c-b27c72629b87",
   "metadata": {},
   "outputs": [
    {
     "data": {
      "text/plain": [
       "False"
      ]
     },
     "execution_count": 110,
     "metadata": {},
     "output_type": "execute_result"
    }
   ],
   "source": [
    "alldigitsonce(m[1, :])"
   ]
  },
  {
   "cell_type": "code",
   "execution_count": 111,
   "id": "10441b8d-89b1-4fc0-80dc-204e2013b5a4",
   "metadata": {},
   "outputs": [
    {
     "data": {
      "text/plain": [
       "(9, 9)"
      ]
     },
     "execution_count": 111,
     "metadata": {},
     "output_type": "execute_result"
    }
   ],
   "source": [
    "m.shape"
   ]
  },
  {
   "cell_type": "code",
   "execution_count": 112,
   "id": "2c89ab08-662d-4a9f-8649-323af4c3f794",
   "metadata": {},
   "outputs": [],
   "source": [
    "\n",
    "def testrowsandcols(sudoku):\n",
    "    n, p = sudoku.shape\n",
    "    \n",
    "    for i in range(n):\n",
    "        if not alldigitsonce(sudoku[i, :]):\n",
    "            return False\n",
    "    \n",
    "    for j in range(p):\n",
    "        if not alldigitsonce(sudoku[:, j]):\n",
    "            return False\n",
    "    \n",
    "    return True"
   ]
  },
  {
   "cell_type": "code",
   "execution_count": 113,
   "id": "ee9eb537-e0d0-414b-9376-7e616ec27128",
   "metadata": {},
   "outputs": [
    {
     "data": {
      "text/plain": [
       "array([[1, 6, 5],\n",
       "       [3, 7, 1],\n",
       "       [4, 9, 6]])"
      ]
     },
     "execution_count": 113,
     "metadata": {},
     "output_type": "execute_result"
    }
   ],
   "source": [
    "m[0:3, 0:3]"
   ]
  },
  {
   "cell_type": "code",
   "execution_count": 114,
   "id": "31ce7404-03ec-43a5-8c57-ba11de9ec3dd",
   "metadata": {},
   "outputs": [
    {
     "data": {
      "text/plain": [
       "array([[1, 4, 7],\n",
       "       [8, 2, 6],\n",
       "       [9, 8, 1]])"
      ]
     },
     "execution_count": 114,
     "metadata": {},
     "output_type": "execute_result"
    }
   ],
   "source": [
    "m[3:6, 0:3]"
   ]
  },
  {
   "cell_type": "code",
   "execution_count": 115,
   "id": "abba3160-d670-4137-a1aa-5fc4eff3ad17",
   "metadata": {},
   "outputs": [
    {
     "data": {
      "text/plain": [
       "array([[1, 5, 4],\n",
       "       [4, 4, 6],\n",
       "       [2, 9, 9]])"
      ]
     },
     "execution_count": 115,
     "metadata": {},
     "output_type": "execute_result"
    }
   ],
   "source": [
    "m[6:9, 0:3]"
   ]
  },
  {
   "cell_type": "code",
   "execution_count": 160,
   "id": "ae2e9fcc-a0aa-40d9-ad1b-aaa81fc9cba5",
   "metadata": {},
   "outputs": [],
   "source": [
    "\n",
    "def makesq(m):\n",
    "    squares = []\n",
    "    for i in [0, 3, 6]:\n",
    "        for j in [0, 3, 6]:\n",
    "            square = m[i:(i + 3), j:(j + 3)]\n",
    "            squares.append(square)\n",
    "    return squares"
   ]
  },
  {
   "cell_type": "code",
   "execution_count": 133,
   "id": "0436592c-f2ba-4cc1-89c9-ca5dbffe2390",
   "metadata": {},
   "outputs": [
    {
     "data": {
      "text/plain": [
       "array([[1, 2, 3],\n",
       "       [4, 5, 6],\n",
       "       [7, 8, 9]])"
      ]
     },
     "execution_count": 133,
     "metadata": {},
     "output_type": "execute_result"
    }
   ],
   "source": [
    "minisq = np.array([[1, 2, 3], [4, 5, 6], [7, 8, 9]])\n",
    "minisq"
   ]
  },
  {
   "cell_type": "code",
   "execution_count": 134,
   "id": "c4271764-52ed-49fa-a618-dae7cdc34214",
   "metadata": {},
   "outputs": [
    {
     "data": {
      "text/plain": [
       "array([1, 2, 3, 4, 5, 6, 7, 8, 9])"
      ]
     },
     "execution_count": 134,
     "metadata": {},
     "output_type": "execute_result"
    }
   ],
   "source": [
    "minisq.flatten()"
   ]
  },
  {
   "cell_type": "code",
   "execution_count": 135,
   "id": "b6a13207-6cc0-456d-84a7-ac767a096df5",
   "metadata": {},
   "outputs": [
    {
     "data": {
      "text/plain": [
       "True"
      ]
     },
     "execution_count": 135,
     "metadata": {},
     "output_type": "execute_result"
    }
   ],
   "source": [
    "alldigitsonce(minisq.flatten())"
   ]
  },
  {
   "cell_type": "code",
   "execution_count": 158,
   "id": "e1471674-c130-47f1-9dfa-5ff7de600a84",
   "metadata": {},
   "outputs": [
    {
     "name": "stdout",
     "output_type": "stream",
     "text": [
      "[[1 6 5]\n",
      " [3 7 1]\n",
      " [4 9 6]]\n",
      "[[2 4 7]\n",
      " [8 4 5]\n",
      " [1 1 9]]\n",
      "[[9 2 3]\n",
      " [8 1 8]\n",
      " [3 8 5]]\n",
      "[[1 4 7]\n",
      " [8 2 6]\n",
      " [9 8 1]]\n",
      "[[1 1 2]\n",
      " [7 8 6]\n",
      " [9 3 5]]\n",
      "[[6 5 8]\n",
      " [9 2 5]\n",
      " [4 6 7]]\n",
      "[[1 5 4]\n",
      " [4 4 6]\n",
      " [2 9 9]]\n",
      "[[9 9 8]\n",
      " [2 3 6]\n",
      " [1 3 9]]\n",
      "[[9 5 4]\n",
      " [8 2 5]\n",
      " [5 6 9]]\n"
     ]
    }
   ],
   "source": [
    "\n",
    "result = makesq(m)\n",
    "for square in result:\n",
    "    print(square)\n",
    "    "
   ]
  },
  {
   "cell_type": "code",
   "execution_count": 152,
   "id": "acb29b7e-6070-4b2b-82dd-75761260b34b",
   "metadata": {},
   "outputs": [
    {
     "data": {
      "text/plain": [
       "array([[1, 6, 5],\n",
       "       [3, 7, 1],\n",
       "       [4, 9, 6]])"
      ]
     },
     "execution_count": 152,
     "metadata": {},
     "output_type": "execute_result"
    }
   ],
   "source": [
    "result[0]"
   ]
  },
  {
   "cell_type": "code",
   "execution_count": 157,
   "id": "be4b4111-9f0e-4515-9344-30ba584c35dc",
   "metadata": {},
   "outputs": [
    {
     "data": {
      "text/plain": [
       "False"
      ]
     },
     "execution_count": 157,
     "metadata": {},
     "output_type": "execute_result"
    }
   ],
   "source": [
    "alldigitsonce(result[0].flatten())"
   ]
  },
  {
   "cell_type": "markdown",
   "id": "50fd76a8-fda7-4d79-ba65-76d685c8d8ba",
   "metadata": {},
   "source": [
    "## Faire en sorte que les chiffres ne se répètent pas "
   ]
  },
  {
   "cell_type": "code",
   "execution_count": 14,
   "id": "209aef7f-70ef-4d8f-8d15-737720632d51",
   "metadata": {},
   "outputs": [],
   "source": [
    "def is_valid_move(board, row, col, num):\n",
    "    # Check if the number is not in the same row or column\n",
    "    if num in board[row] or num in [board[i][col] for i in range(9)]:\n",
    "        return False\n",
    "\n",
    "    # Check if the number is not in the 3x3 subgrid\n",
    "    subgrid_row, subgrid_col = 3 * (row // 3), 3 * (col // 3)\n",
    "    if num in [board[subgrid_row + i][subgrid_col + j] for i in range(3) for j in range(3)]:\n",
    "        return False\n",
    "\n",
    "    return True"
   ]
  },
  {
   "cell_type": "markdown",
   "id": "cb362356-eb76-4cfb-a8c8-df4fd6c6473b",
   "metadata": {},
   "source": [
    "Fonction is_valid_move :\n",
    "Cette fonction vérifie si placer un nombre dans une cellule spécifique est un mouvement valide selon les règles du Sudoku.\n",
    "Elle vérifie que le nombre n'est pas déjà présent dans la même ligne, la même colonne ou le même sous-grille 3x3."
   ]
  },
  {
   "cell_type": "code",
   "execution_count": 15,
   "id": "18cd346d-c8e1-4bf0-91ab-6520689f16dc",
   "metadata": {},
   "outputs": [],
   "source": [
    "def solve_sudoku(board):\n",
    "    empty = find_empty_location(board)\n",
    "    \n",
    "    # If there are no empty locations, the Sudoku is solved\n",
    "    if not empty:\n",
    "        return True\n",
    "    \n",
    "    row, col = empty\n",
    "\n",
    "    for num in range(1, 10):\n",
    "        if is_valid_move(board, row, col, num):\n",
    "            # Make the move\n",
    "            board[row][col] = num\n",
    "\n",
    "            # Recursively try to solve the remaining Sudoku\n",
    "            if solve_sudoku(board):\n",
    "                return True\n",
    "\n",
    "            # If the move leads to an invalid solution, backtrack\n",
    "            board[row][col] = 0\n",
    "\n",
    "    # No valid move found, backtrack\n",
    "    return False"
   ]
  },
  {
   "cell_type": "markdown",
   "id": "caa264e7-1e48-47d1-ab20-30d551bb16e7",
   "metadata": {},
   "source": [
    "Fonction solve_sudoku :\n",
    "Cette fonction utilise une approche de récursivité et de retour en arrière pour résoudre le Sudoku.\n",
    "Elle trouve d'abord une cellule vide avec la fonction find_empty_location.\n",
    "Ensuite, elle essaie de placer les chiffres de 1 à 9 dans cette cellule en utilisant is_valid_move.\n",
    "Si un placement est valide, elle continue à résoudre le reste du Sudoku récursivement.\n",
    "Si un placement conduit à une solution invalide, elle effectue une annulation (backtrack)."
   ]
  },
  {
   "cell_type": "code",
   "execution_count": 16,
   "id": "7c8c18ad-2db3-4b51-967d-067c5d900a42",
   "metadata": {},
   "outputs": [],
   "source": [
    "def find_empty_location(board):\n",
    "    for i in range(9):\n",
    "        for j in range(9):\n",
    "            if board[i][j] == 0:\n",
    "                return (i, j)\n",
    "    return None"
   ]
  },
  {
   "cell_type": "markdown",
   "id": "0fd3458a-25f9-4f9f-8667-c07ac6efcb6d",
   "metadata": {},
   "source": [
    "Fonction find_empty_location :\n",
    "Cette fonction trouve la première cellule vide (contenant 0) dans le Sudoku."
   ]
  },
  {
   "cell_type": "code",
   "execution_count": 17,
   "id": "52a684a2-89f6-455a-b401-a8ee07ea9be3",
   "metadata": {},
   "outputs": [
    {
     "name": "stdout",
     "output_type": "stream",
     "text": [
      "[1, 2, 3, 4, 5, 6, 7, 8, 9]\n",
      "[4, 5, 6, 7, 8, 9, 1, 2, 3]\n",
      "[7, 8, 9, 1, 2, 3, 4, 5, 6]\n",
      "[2, 1, 4, 3, 6, 5, 8, 9, 7]\n",
      "[3, 6, 5, 8, 9, 7, 2, 1, 4]\n",
      "[8, 9, 7, 2, 1, 4, 3, 6, 5]\n",
      "[5, 3, 1, 6, 4, 2, 9, 7, 8]\n",
      "[6, 4, 2, 9, 7, 8, 5, 3, 1]\n",
      "[9, 7, 8, 5, 3, 1, 6, 4, 2]\n"
     ]
    }
   ],
   "source": [
    "def generate_sudoku():\n",
    "    # Initialize an empty 9x9 Sudoku grid\n",
    "    sudoku_grid = [[0 for _ in range(9)] for _ in range(9)]\n",
    "\n",
    "    # Solve the Sudoku grid\n",
    "    solve_sudoku(sudoku_grid)\n",
    "\n",
    "    return sudoku_grid\n",
    "\n",
    "# Example usage:\n",
    "sudoku_board = generate_sudoku()\n",
    "for row in sudoku_board:\n",
    "    print(row)"
   ]
  },
  {
   "cell_type": "markdown",
   "id": "271e32b1-90f0-425f-8d05-be161d67026c",
   "metadata": {},
   "source": [
    "Fonction generate_sudoku :\n",
    "Cette fonction initialise une grille de Sudoku vide et résout cette grille en utilisant la fonction solve_sudoku.\n",
    "Le résultat est une grille de Sudoku remplie qui respecte les règles du jeu."
   ]
  },
  {
   "cell_type": "code",
   "execution_count": 20,
   "id": "f17c894a-af90-4916-a71b-a91fad345a37",
   "metadata": {},
   "outputs": [],
   "source": [
    " def remove_cells(board, difficulty_level):\n",
    "    puzzle = [row[:] for row in board]\n",
    "\n",
    "    if difficulty_level == \"easy\":\n",
    "        cells_to_remove = 49\n",
    "    elif difficulty_level == \"difficult\":\n",
    "        cells_to_remove = 51\n",
    "    elif difficulty_level == \"challenger\":\n",
    "        cells_to_remove = 58\n",
    "    else:\n",
    "        raise ValueError(\"Invalid difficulty level\")\n",
    "\n",
    "    for _ in range(cells_to_remove):\n",
    "        while True:\n",
    "            row = random.randint(0, 8)\n",
    "            col = random.randint(0, 8)\n",
    "            if puzzle[row][col] != 0:\n",
    "                puzzle[row][col] = 0\n",
    "                break\n",
    "\n",
    "    return puzzle"
   ]
  },
  {
   "cell_type": "markdown",
   "id": "3139dc01-34ea-4a96-8508-e2d5b3eb446c",
   "metadata": {},
   "source": [
    "Fonction remove_cells :\n",
    "Cette fonction prend une grille de Sudoku remplie (board) et un niveau de difficulté spécifié (difficulty_level : \"easy\", \"difficult\", ou \"challenger\").\n",
    "Elle crée une copie de la grille pour éviter de modifier la grille originale.\n",
    "En fonction du niveau de difficulté, elle détermine le nombre de cases à faire disparaître (cells_to_remove).\n",
    "Elle utilise une boucle pour faire disparaître aléatoirement le nombre spécifié de cases, en s'assurant que chaque case n'est retirée qu'une seule fois."
   ]
  },
  {
   "cell_type": "code",
   "execution_count": 21,
   "id": "266815d8-f322-4f01-b70a-81727cc0a5fe",
   "metadata": {},
   "outputs": [
    {
     "name": "stdout",
     "output_type": "stream",
     "text": [
      "[0, 0, 3, 4, 5, 0, 7, 0, 0]\n",
      "[0, 5, 0, 0, 0, 0, 0, 0, 0]\n",
      "[0, 8, 0, 1, 0, 3, 0, 0, 0]\n",
      "[0, 1, 4, 0, 0, 0, 0, 0, 7]\n",
      "[3, 0, 5, 8, 9, 7, 0, 0, 4]\n",
      "[8, 9, 0, 2, 0, 4, 0, 6, 0]\n",
      "[0, 0, 0, 0, 4, 0, 0, 0, 0]\n",
      "[0, 0, 0, 9, 0, 8, 5, 3, 1]\n",
      "[9, 7, 0, 5, 0, 0, 6, 0, 0]\n"
     ]
    }
   ],
   "source": [
    "## Exemple D'utilisation\n",
    "\n",
    "sudoku_board = generate_sudoku()\n",
    "difficulty_level = \"easy\"\n",
    "puzzle = remove_cells(sudoku_board, difficulty_level)\n",
    "\n",
    "for row in puzzle:\n",
    "    print(row)"
   ]
  },
  {
   "cell_type": "markdown",
   "id": "869ef582-bbac-4ffa-bd5f-61c6c613e9f1",
   "metadata": {},
   "source": [
    "Exemple d'utilisation :\n",
    "Générer une grille de Sudoku remplie en utilisant la fonction generate_sudoku.\n",
    "Spécifier le niveau de difficulté (par exemple, \"easy\").\n",
    "Utiliser la fonction remove_cells pour obtenir une grille de Sudoku avec le nombre spécifié de cases cachées.\n",
    "Afficher la grille résultante avec les cases cachées."
   ]
  },
  {
   "cell_type": "code",
   "execution_count": null,
   "id": "f983e6e9-ef3c-4507-9b59-5c556e6712b4",
   "metadata": {},
   "outputs": [],
   "source": []
  },
  {
   "cell_type": "code",
   "execution_count": null,
   "id": "c42c55df-85f4-4fdc-85de-5a8cb23c4ba7",
   "metadata": {},
   "outputs": [],
   "source": []
  }
 ],
 "metadata": {
  "kernelspec": {
   "display_name": "Python 3 (ipykernel)",
   "language": "python",
   "name": "python3"
  },
  "language_info": {
   "codemirror_mode": {
    "name": "ipython",
    "version": 3
   },
   "file_extension": ".py",
   "mimetype": "text/x-python",
   "name": "python",
   "nbconvert_exporter": "python",
   "pygments_lexer": "ipython3",
   "version": "3.7.12"
  }
 },
 "nbformat": 4,
 "nbformat_minor": 5
}
